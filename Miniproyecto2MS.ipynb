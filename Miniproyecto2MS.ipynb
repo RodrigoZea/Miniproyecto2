{
 "cells": [
  {
   "cell_type": "markdown",
   "metadata": {},
   "source": [
    "# Miniproyecto 2"
   ]
  },
  {
   "cell_type": "markdown",
   "metadata": {},
   "source": [
    "## Integrantes del equipo"
   ]
  },
  {
   "cell_type": "markdown",
   "metadata": {},
   "source": [
    "Rodrigo Zea"
   ]
  },
  {
   "cell_type": "markdown",
   "metadata": {},
   "source": [
    "Sebastian Arriola"
   ]
  },
  {
   "cell_type": "code",
   "execution_count": 2,
   "metadata": {},
   "outputs": [],
   "source": [
    "from math import log\n",
    "from random import seed, random"
   ]
  },
  {
   "cell_type": "markdown",
   "metadata": {},
   "source": [
    "## Problema 1"
   ]
  },
  {
   "cell_type": "markdown",
   "metadata": {},
   "source": [
    "### Composición"
   ]
  },
  {
   "cell_type": "code",
   "execution_count": 17,
   "metadata": {},
   "outputs": [
    {
     "data": {
      "text/latex": [
       "\\begin{align}\n",
       "F_x(x) = \\sum_{i=1}^{\\infty} p_i F_i(x) \\\\\n",
       "\\end{align}\n"
      ],
      "text/plain": [
       "<IPython.core.display.Latex object>"
      ]
     },
     "metadata": {},
     "output_type": "display_data"
    }
   ],
   "source": [
    "%%latex\n",
    "\\begin{align}\n",
    "F_x(x) = \\sum_{i=1}^{\\infty} p_i F_i(x) \\\\\n",
    "\\end{align}"
   ]
  },
  {
   "cell_type": "code",
   "execution_count": 18,
   "metadata": {},
   "outputs": [
    {
     "data": {
      "text/latex": [
       "\\begin{align}\n",
       "F_i \\text{ también son funciones de probabilidad acumulada, } p_i \\geq 0 \\text{ para todo j y} \\sum p_i = 1 \\text{ si las densidades existen entonces:}\\\\\n",
       "\\end{align}\n"
      ],
      "text/plain": [
       "<IPython.core.display.Latex object>"
      ]
     },
     "metadata": {},
     "output_type": "display_data"
    }
   ],
   "source": [
    "%%latex\n",
    "\\begin{align}\n",
    "F_i \\text{ también son funciones de probabilidad acumulada, } p_i \\geq 0 \\text{ para todo j y} \\sum p_i = 1 \\text{ si las densidades existen entonces:}\\\\\n",
    "\\end{align}"
   ]
  },
  {
   "cell_type": "code",
   "execution_count": 19,
   "metadata": {},
   "outputs": [
    {
     "data": {
      "text/latex": [
       "\\begin{align}\n",
       "f_x(x) = \\sum_{i=1}^{\\infty} p_i f_i(x) \\\\\n",
       "\\end{align}\n"
      ],
      "text/plain": [
       "<IPython.core.display.Latex object>"
      ]
     },
     "metadata": {},
     "output_type": "display_data"
    }
   ],
   "source": [
    "%%latex\n",
    "\\begin{align}\n",
    "f_x(x) = \\sum_{i=1}^{\\infty} p_i f_i(x) \\\\\n",
    "\\end{align}"
   ]
  },
  {
   "cell_type": "markdown",
   "metadata": {},
   "source": [
    "### Algoritmo de Composición"
   ]
  },
  {
   "cell_type": "code",
   "execution_count": 29,
   "metadata": {},
   "outputs": [
    {
     "data": {
      "text/latex": [
       "\\begin{align}\n",
       "\\text{ 1. Generar I distributiva sobre enteros no negativos tal que } P(I = n) = p_n \\\\\n",
       "\\text{ 2. Si I = j, entonces simular } Y_i \\text{ desde } F_i  \\\\\n",
       "\\text{ 3. } X = Y_i  \\\\\n",
       "\\end{align}\n"
      ],
      "text/plain": [
       "<IPython.core.display.Latex object>"
      ]
     },
     "metadata": {},
     "output_type": "display_data"
    }
   ],
   "source": [
    "\n",
    "%%latex\n",
    "\\begin{align}\n",
    "\\text{ 1. Generar I distributiva sobre enteros no negativos tal que } P(I = n) = p_n \\\\\n",
    "\\text{ 2. Si I = j, entonces simular } Y_i \\text{ desde } F_i  \\\\\n",
    "\\text{ 3. } X = Y_i  \\\\\n",
    "\\end{align}"
   ]
  },
  {
   "cell_type": "markdown",
   "metadata": {},
   "source": [
    "### Prueba"
   ]
  },
  {
   "cell_type": "code",
   "execution_count": 35,
   "metadata": {},
   "outputs": [
    {
     "data": {
      "text/latex": [
       "\\begin{align}\n",
       "P(X \\leq x) = \\sum_{i=1}^{\\infty} P(X \\leq x | I = i) \\\\\n",
       "P(X \\leq x) = \\sum_{i=1}^{\\infty} P(Y_i \\leq x) P(I = i) \\\\\n",
       "P(X \\leq x) = \\sum_{i=1}^{\\infty} F_i(x) p_i \\\\\n",
       "P(X \\leq x) = F_x(x) \\\\\n",
       "\\end{align}\n"
      ],
      "text/plain": [
       "<IPython.core.display.Latex object>"
      ]
     },
     "metadata": {},
     "output_type": "display_data"
    }
   ],
   "source": [
    "%%latex\n",
    "\\begin{align}\n",
    "P(X \\leq x) = \\sum_{i=1}^{\\infty} P(X \\leq x | I = i) \\\\\n",
    "P(X \\leq x) = \\sum_{i=1}^{\\infty} P(Y_i \\leq x) P(I = i) \\\\\n",
    "P(X \\leq x) = \\sum_{i=1}^{\\infty} F_i(x) p_i \\\\\n",
    "P(X \\leq x) = F_x(x) \\\\\n",
    "\\end{align}"
   ]
  },
  {
   "cell_type": "markdown",
   "metadata": {},
   "source": [
    "## Problema 2"
   ]
  },
  {
   "cell_type": "code",
   "execution_count": null,
   "metadata": {},
   "outputs": [],
   "source": []
  },
  {
   "cell_type": "markdown",
   "metadata": {},
   "source": [
    "## Problema 3"
   ]
  },
  {
   "cell_type": "code",
   "execution_count": null,
   "metadata": {},
   "outputs": [],
   "source": []
  },
  {
   "cell_type": "markdown",
   "metadata": {},
   "source": [
    "## Problema 4"
   ]
  },
  {
   "cell_type": "code",
   "execution_count": 135,
   "metadata": {},
   "outputs": [
    {
     "name": "stdout",
     "output_type": "stream",
     "text": [
      "Comprando 9 al dia, 1 mes: $279\n",
      "Comprando 9 al dia, 1 año: $3285\n",
      "Comprando 9 al dia, 10 años: $32850\n",
      "\n",
      "Comprando 10 al dia, 1 mes: $286.0\n",
      "Comprando 10 al dia, 1 año: $3446.0\n",
      "Comprando 10 al dia, 10 años: $34342.0\n",
      "\n",
      "Comprando 11 al dia, 1 mes: $273.0\n",
      "Comprando 11 al dia, 1 año: $3369.0\n",
      "Comprando 11 al dia, 10 años: $33446.0\n"
     ]
    }
   ],
   "source": [
    "cost_price = 1.5\n",
    "sale_price = 2.5\n",
    "refund_price = 0.5\n",
    "\n",
    "# cuando se compran 9 al dia\n",
    "sold_one_month_9 = (9 * 31)\n",
    "sold_one_year_9 = (9 * 365)\n",
    "sold_ten_years_9 = (9 * 3650)\n",
    "print(f'Comprando 9 al dia, 1 mes: ${sold_one_month_9}')\n",
    "print(f'Comprando 9 al dia, 1 año: ${sold_one_year_9}')\n",
    "print(f'Comprando 9 al dia, 10 años: ${sold_ten_years_9}')\n",
    "print()\n",
    "\n",
    "# Cuando se compran 10 al dia\n",
    "results = []\n",
    "for interval in [31, 365, 3650]:\n",
    "    sold, refunded = 0, 0\n",
    "    for i in range(interval):\n",
    "        p = random()\n",
    "        if p < 0.3:\n",
    "            sold += 9\n",
    "            refunded += 1\n",
    "        else:\n",
    "            sold += 10\n",
    "    results.append((sold * sale_price) + (refunded * refund_price) - (10 * cost_price * interval))\n",
    "\n",
    "print(f'Comprando 10 al dia, 1 mes: ${results[0]}')\n",
    "print(f'Comprando 10 al dia, 1 año: ${results[1]}')\n",
    "print(f'Comprando 10 al dia, 10 años: ${results[2]}')\n",
    "print()\n",
    "\n",
    "# Cuando se compran 11 al dia\n",
    "results = []\n",
    "for interval in [31, 365, 3650]:\n",
    "    sold, refunded = 0, 0\n",
    "    for i in range(interval):\n",
    "        p = random()\n",
    "        if p < 0.3:\n",
    "            sold += 9\n",
    "            refunded += 2\n",
    "        elif p < 0.6:\n",
    "            sold += 10\n",
    "            refunded += 1\n",
    "        else:\n",
    "            sold += 11\n",
    "    results.append((sold * sale_price) + (refunded * refund_price) - (11 * cost_price * interval))\n",
    "\n",
    "print(f'Comprando 11 al dia, 1 mes: ${results[0]}')\n",
    "print(f'Comprando 11 al dia, 1 año: ${results[1]}')\n",
    "print(f'Comprando 11 al dia, 10 años: ${results[2]}')"
   ]
  }
 ],
 "metadata": {
  "kernelspec": {
   "display_name": "Python 3",
   "language": "python",
   "name": "python3"
  },
  "language_info": {
   "codemirror_mode": {
    "name": "ipython",
    "version": 3
   },
   "file_extension": ".py",
   "mimetype": "text/x-python",
   "name": "python",
   "nbconvert_exporter": "python",
   "pygments_lexer": "ipython3",
   "version": "3.8.5"
  }
 },
 "nbformat": 4,
 "nbformat_minor": 4
}
