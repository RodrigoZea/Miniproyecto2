{
 "cells": [
  {
   "cell_type": "markdown",
   "metadata": {},
   "source": [
    "# Miniproyecto 2"
   ]
  },
  {
   "cell_type": "markdown",
   "metadata": {},
   "source": [
    "## Integrantes del equipo"
   ]
  },
  {
   "cell_type": "markdown",
   "metadata": {},
   "source": [
    "Rodrigo Zea"
   ]
  },
  {
   "cell_type": "markdown",
   "metadata": {},
   "source": [
    "Sebastian Arriola"
   ]
  },
  {
   "cell_type": "code",
   "execution_count": 4,
   "metadata": {},
   "outputs": [],
   "source": [
    "import math\n",
    "from random import seed, random\n",
    "import matplotlib.pyplot as plt\n",
    "import numpy as np"
   ]
  },
  {
   "cell_type": "markdown",
   "metadata": {},
   "source": [
    "## Problema 1"
   ]
  },
  {
   "cell_type": "markdown",
   "metadata": {},
   "source": [
    "### Composición"
   ]
  },
  {
   "cell_type": "code",
   "execution_count": 2,
   "metadata": {},
   "outputs": [
    {
     "data": {
      "text/latex": [
       "\\begin{align}\n",
       "F_x(x) = \\sum_{i=1}^{\\infty} p_i F_i(x) \\\\\n",
       "\\end{align}\n"
      ],
      "text/plain": [
       "<IPython.core.display.Latex object>"
      ]
     },
     "metadata": {},
     "output_type": "display_data"
    }
   ],
   "source": [
    "%%latex\n",
    "\\begin{align}\n",
    "F_x(x) = \\sum_{i=1}^{\\infty} p_i F_i(x) \\\\\n",
    "\\end{align}"
   ]
  },
  {
   "cell_type": "code",
   "execution_count": 3,
   "metadata": {},
   "outputs": [
    {
     "data": {
      "text/latex": [
       "\\begin{align}\n",
       "F_i \\text{ también son funciones de probabilidad acumulada, } p_i \\geq 0 \\text{ para todo j y} \\sum p_i = 1 \\text{ si las densidades existen entonces:}\\\\\n",
       "\\end{align}\n"
      ],
      "text/plain": [
       "<IPython.core.display.Latex object>"
      ]
     },
     "metadata": {},
     "output_type": "display_data"
    }
   ],
   "source": [
    "%%latex\n",
    "\\begin{align}\n",
    "F_i \\text{ también son funciones de probabilidad acumulada, } p_i \\geq 0 \\text{ para todo j y} \\sum p_i = 1 \\text{ si las densidades existen entonces:}\\\\\n",
    "\\end{align}"
   ]
  },
  {
   "cell_type": "code",
   "execution_count": 4,
   "metadata": {},
   "outputs": [
    {
     "data": {
      "text/latex": [
       "\\begin{align}\n",
       "f_x(x) = \\sum_{i=1}^{\\infty} p_i f_i(x) \\\\\n",
       "\\end{align}\n"
      ],
      "text/plain": [
       "<IPython.core.display.Latex object>"
      ]
     },
     "metadata": {},
     "output_type": "display_data"
    }
   ],
   "source": [
    "%%latex\n",
    "\\begin{align}\n",
    "f_x(x) = \\sum_{i=1}^{\\infty} p_i f_i(x) \\\\\n",
    "\\end{align}"
   ]
  },
  {
   "cell_type": "markdown",
   "metadata": {},
   "source": [
    "### Algoritmo de Composición"
   ]
  },
  {
   "cell_type": "code",
   "execution_count": 5,
   "metadata": {},
   "outputs": [
    {
     "data": {
      "text/latex": [
       "\\begin{align}\n",
       "\\text{ 1. Generar I distributiva sobre enteros no negativos tal que } P(I = n) = p_n \\\\\n",
       "\\text{ 2. Si I = j, entonces simular } Y_i \\text{ desde } F_i  \\\\\n",
       "\\text{ 3. } X = Y_i  \\\\\n",
       "\\end{align}\n"
      ],
      "text/plain": [
       "<IPython.core.display.Latex object>"
      ]
     },
     "metadata": {},
     "output_type": "display_data"
    }
   ],
   "source": [
    "\n",
    "%%latex\n",
    "\\begin{align}\n",
    "\\text{ 1. Generar I distributiva sobre enteros no negativos tal que } P(I = n) = p_n \\\\\n",
    "\\text{ 2. Si I = j, entonces simular } Y_i \\text{ desde } F_i  \\\\\n",
    "\\text{ 3. } X = Y_i  \\\\\n",
    "\\end{align}"
   ]
  },
  {
   "cell_type": "markdown",
   "metadata": {},
   "source": [
    "### Prueba"
   ]
  },
  {
   "cell_type": "code",
   "execution_count": 6,
   "metadata": {},
   "outputs": [
    {
     "data": {
      "text/latex": [
       "\\begin{align}\n",
       "P(X \\leq x) = \\sum_{i=1}^{\\infty} P(X \\leq x | I = i) \\\\\n",
       "P(X \\leq x) = \\sum_{i=1}^{\\infty} P(Y_i \\leq x) P(I = i) \\\\\n",
       "P(X \\leq x) = \\sum_{i=1}^{\\infty} F_i(x) p_i \\\\\n",
       "P(X \\leq x) = F_x(x) \\\\\n",
       "\\end{align}\n"
      ],
      "text/plain": [
       "<IPython.core.display.Latex object>"
      ]
     },
     "metadata": {},
     "output_type": "display_data"
    }
   ],
   "source": [
    "%%latex\n",
    "\\begin{align}\n",
    "P(X \\leq x) = \\sum_{i=1}^{\\infty} P(X \\leq x | I = i) \\\\\n",
    "P(X \\leq x) = \\sum_{i=1}^{\\infty} P(Y_i \\leq x) P(I = i) \\\\\n",
    "P(X \\leq x) = \\sum_{i=1}^{\\infty} F_i(x) p_i \\\\\n",
    "P(X \\leq x) = F_x(x) \\\\\n",
    "\\end{align}"
   ]
  },
  {
   "cell_type": "markdown",
   "metadata": {},
   "source": [
    "## Problema 2 - Ejemplo con Distribución Hiperexponencial\n",
    "Parámetros:\n",
    "- a1 = 0.1\n",
    "- a2 = 0.9\n",
    "- l1 = 0.5\n",
    "- l2 = 1.5\n",
    "\n",
    "Nota: los valores de los parámetros fueron tomados de: https://www.boost.org/doc/libs/1_60_0/libs/math/doc/html/math_toolkit/dist_ref/dists/hyperexponential_dist.html"
   ]
  },
  {
   "cell_type": "code",
   "execution_count": 252,
   "metadata": {},
   "outputs": [
    {
     "data": {
      "text/plain": [
       "(array([ 636.,  714.,  780.,  833.,  948.,  802.,  986., 1135., 1377.,\n",
       "        1789.]),\n",
       " array([2.92497401e-06, 7.76857461e-02, 1.55368567e-01, 2.33051388e-01,\n",
       "        3.10734209e-01, 3.88417030e-01, 4.66099852e-01, 5.43782673e-01,\n",
       "        6.21465494e-01, 6.99148315e-01, 7.76831136e-01]),\n",
       " <BarContainer object of 10 artists>)"
      ]
     },
     "execution_count": 252,
     "metadata": {},
     "output_type": "execute_result"
    },
    {
     "data": {
      "image/png": "[encoded data removed]",
      "text/plain": [
       "<Figure size 432x288 with 1 Axes>"
      ]
     },
     "metadata": {
      "needs_background": "light"
     },
     "output_type": "display_data"
    }
   ],
   "source": [
    "a1, a2, l1, l2 = 0.1, 0.9, 0.5, 1.5\n",
    "f1 = lambda x: 1 - math.e**(-l1 * x)\n",
    "f2 = lambda x: 1 - math.e**(-l2 * x)\n",
    "\n",
    "n = []\n",
    "for _ in range(10000):\n",
    "    u1 = random()\n",
    "    u2 = random()\n",
    "    x = f1(u2) if u1 <= a1 else f2(u2)\n",
    "    n.append(x)\n",
    "plt.hist(n, edgecolor='black')"
   ]
  },
  {
   "cell_type": "markdown",
   "metadata": {},
   "source": [
    "## Problema 3"
   ]
  },
  {
   "cell_type": "code",
   "execution_count": 2,
   "metadata": {},
   "outputs": [],
   "source": [
    "hotel = [\n",
    "    (-800, 0, False),\n",
    "    (-800, 50, True),\n",
    "    (-800, 100, True),\n",
    "    (-700, 150, True),\n",
    "    (300, 200, True),\n",
    "    (400, 200, True),\n",
    "    (500, 200, True),\n",
    "    (200, 8440, False)\n",
    "]"
   ]
  },
  {
   "cell_type": "code",
   "execution_count": 3,
   "metadata": {},
   "outputs": [],
   "source": [
    "cc = [\n",
    "    (-900, 0, False),\n",
    "    (-600, 50, True),\n",
    "    (-200, 50, True),\n",
    "    (-600, 100, True),\n",
    "    (250, 150, True),\n",
    "    (350, 150, True),\n",
    "    (400, 150, True),\n",
    "    (1600, 6000, False)\n",
    "]"
   ]
  },
  {
   "cell_type": "code",
   "execution_count": 5,
   "metadata": {},
   "outputs": [],
   "source": [
    "def vpn(f, t, r):\n",
    "    if t == 0:\n",
    "        return f\n",
    "    return f/(1+r)**t"
   ]
  },
  {
   "cell_type": "markdown",
   "metadata": {},
   "source": [
    "### 100 Iteraciones"
   ]
  },
  {
   "cell_type": "code",
   "execution_count": 7,
   "metadata": {},
   "outputs": [],
   "source": [
    "ph = 0\n",
    "pcc = 0\n",
    "\n",
    "for i in range(100):\n",
    "    actual_val_hotel = 0\n",
    "    for i in range(len(hotel)):\n",
    "        if (hotel[i][2] == True):\n",
    "            f = np.random.normal(hotel[i][0], hotel[i][1])\n",
    "        else:\n",
    "            f = np.random.uniform(hotel[i][0] - hotel[i][1], hotel[i][0] + hotel[i][1])\n",
    "            \n",
    "        actual_val_hotel += vpn(f, i, 0.10)\n",
    "        \n",
    "    actual_val_cc = 0\n",
    "    for i in range(len(cc)):\n",
    "        if (cc[i][2] == True):\n",
    "            f = np.random.normal(cc[i][0], cc[i][1])\n",
    "        else:\n",
    "            f = np.random.uniform(cc[i][0] - cc[i][1], cc[i][0] + cc[i][1])\n",
    "            \n",
    "        actual_val_cc += vpn(f, i, 0.10)\n",
    "        \n",
    "    if actual_val_hotel > actual_val_cc:\n",
    "        ph += 1\n",
    "    else:\n",
    "        pcc += 1"
   ]
  },
  {
   "cell_type": "code",
   "execution_count": 13,
   "metadata": {},
   "outputs": [
    {
     "data": {
      "image/png": "[encoded data removed]",
      "text/plain": [
       "<Figure size 432x288 with 1 Axes>"
      ]
     },
     "metadata": {},
     "output_type": "display_data"
    }
   ],
   "source": [
    "labels = ['Proyecto Hotel', 'Proyecto CC']\n",
    "sizes = [ph, pcc]\n",
    "colors = ['lightblue', 'lightcoral']\n",
    "patches = plt.pie(sizes, colors=colors, shadow=True, startangle=90, autopct='%1.1f%%', labels=labels)\n",
    "plt.axis('equal')\n",
    "plt.show()"
   ]
  },
  {
   "cell_type": "markdown",
   "metadata": {},
   "source": [
    "### 1000 Iteraciones"
   ]
  },
  {
   "cell_type": "code",
   "execution_count": 14,
   "metadata": {},
   "outputs": [],
   "source": [
    "ph = 0\n",
    "pcc = 0\n",
    "\n",
    "for i in range(1000):\n",
    "    actual_val_hotel = 0\n",
    "    for i in range(len(hotel)):\n",
    "        if (hotel[i][2] == True):\n",
    "            f = np.random.normal(hotel[i][0], hotel[i][1])\n",
    "        else:\n",
    "            f = np.random.uniform(hotel[i][0] - hotel[i][1], hotel[i][0] + hotel[i][1])\n",
    "            \n",
    "        actual_val_hotel += vpn(f, i, 0.10)\n",
    "        \n",
    "    actual_val_cc = 0\n",
    "    for i in range(len(cc)):\n",
    "        if (cc[i][2] == True):\n",
    "            f = np.random.normal(cc[i][0], cc[i][1])\n",
    "        else:\n",
    "            f = np.random.uniform(cc[i][0] - cc[i][1], cc[i][0] + cc[i][1])\n",
    "            \n",
    "        actual_val_cc += vpn(f, i, 0.10)\n",
    "        \n",
    "    if actual_val_hotel > actual_val_cc:\n",
    "        ph += 1\n",
    "    else:\n",
    "        pcc += 1"
   ]
  },
  {
   "cell_type": "code",
   "execution_count": 15,
   "metadata": {},
   "outputs": [
    {
     "data": {
      "image/png": "[encoded data removed]",
      "text/plain": [
       "<Figure size 432x288 with 1 Axes>"
      ]
     },
     "metadata": {},
     "output_type": "display_data"
    }
   ],
   "source": [
    "labels = ['Proyecto Hotel', 'Proyecto CC']\n",
    "sizes = [ph, pcc]\n",
    "colors = ['lightblue', 'lightcoral']\n",
    "patches = plt.pie(sizes, colors=colors, shadow=True, startangle=90, autopct='%1.1f%%', labels=labels)\n",
    "plt.axis('equal')\n",
    "plt.show()"
   ]
  },
  {
   "cell_type": "markdown",
   "metadata": {},
   "source": [
    "### 10000 Iteraciones"
   ]
  },
  {
   "cell_type": "code",
   "execution_count": 16,
   "metadata": {},
   "outputs": [],
   "source": [
    "ph = 0\n",
    "pcc = 0\n",
    "\n",
    "for i in range(10000):\n",
    "    actual_val_hotel = 0\n",
    "    for i in range(len(hotel)):\n",
    "        if (hotel[i][2] == True):\n",
    "            f = np.random.normal(hotel[i][0], hotel[i][1])\n",
    "        else:\n",
    "            f = np.random.uniform(hotel[i][0] - hotel[i][1], hotel[i][0] + hotel[i][1])\n",
    "            \n",
    "        actual_val_hotel += vpn(f, i, 0.10)\n",
    "        \n",
    "    actual_val_cc = 0\n",
    "    for i in range(len(cc)):\n",
    "        if (cc[i][2] == True):\n",
    "            f = np.random.normal(cc[i][0], cc[i][1])\n",
    "        else:\n",
    "            f = np.random.uniform(cc[i][0] - cc[i][1], cc[i][0] + cc[i][1])\n",
    "            \n",
    "        actual_val_cc += vpn(f, i, 0.10)\n",
    "        \n",
    "    if actual_val_hotel > actual_val_cc:\n",
    "        ph += 1\n",
    "    else:\n",
    "        pcc += 1"
   ]
  },
  {
   "cell_type": "code",
   "execution_count": 17,
   "metadata": {},
   "outputs": [
    {
     "data": {
      "image/png": "[encoded data removed]",
      "text/plain": [
       "<Figure size 432x288 with 1 Axes>"
      ]
     },
     "metadata": {},
     "output_type": "display_data"
    }
   ],
   "source": [
    "labels = ['Proyecto Hotel', 'Proyecto CC']\n",
    "sizes = [ph, pcc]\n",
    "colors = ['lightblue', 'lightcoral']\n",
    "patches = plt.pie(sizes, colors=colors, shadow=True, startangle=90, autopct='%1.1f%%', labels=labels)\n",
    "plt.axis('equal')\n",
    "plt.show()"
   ]
  },
  {
   "cell_type": "markdown",
   "metadata": {},
   "source": [
    "## Problema 4"
   ]
  },
  {
   "cell_type": "code",
   "execution_count": 7,
   "metadata": {},
   "outputs": [
    {
     "name": "stdout",
     "output_type": "stream",
     "text": [
      "Comprando 9 al dia, 1 mes: $279\n",
      "Comprando 9 al dia, 1 año: $3285\n",
      "Comprando 9 al dia, 10 años: $32850\n",
      "\n",
      "Comprando 10 al dia, 1 mes: $296.0\n",
      "Comprando 10 al dia, 1 año: $3438.0\n",
      "Comprando 10 al dia, 10 años: $34222.0\n",
      "\n",
      "Comprando 11 al dia, 1 mes: $269.0\n",
      "Comprando 11 al dia, 1 año: $3397.0\n",
      "Comprando 11 al dia, 10 años: $33456.0\n"
     ]
    }
   ],
   "source": [
    "cost_price = 1.5\n",
    "sale_price = 2.5\n",
    "refund_price = 0.5\n",
    "\n",
    "# cuando se compran 9 al dia\n",
    "sold_one_month_9 = (9 * 31)\n",
    "sold_one_year_9 = (9 * 365)\n",
    "sold_ten_years_9 = (9 * 3650)\n",
    "print(f'Comprando 9 al dia, 1 mes: ${sold_one_month_9}')\n",
    "print(f'Comprando 9 al dia, 1 año: ${sold_one_year_9}')\n",
    "print(f'Comprando 9 al dia, 10 años: ${sold_ten_years_9}')\n",
    "print()\n",
    "\n",
    "# Cuando se compran 10 al dia\n",
    "results = []\n",
    "for interval in [31, 365, 3650]:\n",
    "    sold, refunded = 0, 0\n",
    "    for i in range(interval):\n",
    "        p = random()\n",
    "        if p < 0.3:\n",
    "            sold += 9\n",
    "            refunded += 1\n",
    "        else:\n",
    "            sold += 10\n",
    "    results.append((sold * sale_price) + (refunded * refund_price) - (10 * cost_price * interval))\n",
    "\n",
    "print(f'Comprando 10 al dia, 1 mes: ${results[0]}')\n",
    "print(f'Comprando 10 al dia, 1 año: ${results[1]}')\n",
    "print(f'Comprando 10 al dia, 10 años: ${results[2]}')\n",
    "print()\n",
    "\n",
    "# Cuando se compran 11 al dia\n",
    "results = []\n",
    "for interval in [31, 365, 3650]:\n",
    "    sold, refunded = 0, 0\n",
    "    for i in range(interval):\n",
    "        p = random()\n",
    "        if p < 0.3:\n",
    "            sold += 9\n",
    "            refunded += 2\n",
    "        elif p < 0.6:\n",
    "            sold += 10\n",
    "            refunded += 1\n",
    "        else:\n",
    "            sold += 11\n",
    "    results.append((sold * sale_price) + (refunded * refund_price) - (11 * cost_price * interval))\n",
    "\n",
    "print(f'Comprando 11 al dia, 1 mes: ${results[0]}')\n",
    "print(f'Comprando 11 al dia, 1 año: ${results[1]}')\n",
    "print(f'Comprando 11 al dia, 10 años: ${results[2]}')"
   ]
  },
  {
   "cell_type": "code",
   "execution_count": null,
   "metadata": {},
   "outputs": [],
   "source": []
  }
 ],
 "metadata": {
  "kernelspec": {
   "display_name": "Python 3",
   "language": "python",
   "name": "python3"
  },
  "language_info": {
   "codemirror_mode": {
    "name": "ipython",
    "version": 3
   },
   "file_extension": ".py",
   "mimetype": "text/x-python",
   "name": "python",
   "nbconvert_exporter": "python",
   "pygments_lexer": "ipython3",
   "version": "3.8.5"
  }
 },
 "nbformat": 4,
 "nbformat_minor": 4
}
