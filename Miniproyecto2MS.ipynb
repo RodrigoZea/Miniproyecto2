{
 "cells": [
  {
   "cell_type": "markdown",
   "metadata": {},
   "source": [
    "# Miniproyecto 2"
   ]
  },
  {
   "cell_type": "markdown",
   "metadata": {},
   "source": [
    "## Integrantes del equipo"
   ]
  },
  {
   "cell_type": "markdown",
   "metadata": {},
   "source": [
    "Rodrigo Zea"
   ]
  },
  {
   "cell_type": "markdown",
   "metadata": {},
   "source": [
    "Sebastian Arriola"
   ]
  },
  {
   "cell_type": "code",
   "execution_count": 2,
   "metadata": {},
   "outputs": [],
   "source": [
    "from math import log\n",
    "from random import seed, random"
   ]
  },
  {
   "cell_type": "code",
   "execution_count": 3,
   "metadata": {},
   "outputs": [],
   "source": [
    "seed(69)"
   ]
  },
  {
   "cell_type": "markdown",
   "metadata": {},
   "source": [
    "## Problema 1"
   ]
  },
  {
   "cell_type": "code",
   "execution_count": 22,
   "metadata": {},
   "outputs": [
    {
     "name": "stdout",
     "output_type": "stream",
     "text": [
      "X: 1.9158979513469334\n"
     ]
    }
   ],
   "source": [
    "l = 1\n",
    "x = -(1 / l) * log(random())\n",
    "print(f'X: {x}')"
   ]
  },
  {
   "cell_type": "markdown",
   "metadata": {},
   "source": [
    "## Problema 2"
   ]
  },
  {
   "cell_type": "code",
   "execution_count": null,
   "metadata": {},
   "outputs": [],
   "source": []
  },
  {
   "cell_type": "markdown",
   "metadata": {},
   "source": [
    "## Problema 3"
   ]
  },
  {
   "cell_type": "code",
   "execution_count": null,
   "metadata": {},
   "outputs": [],
   "source": []
  },
  {
   "cell_type": "markdown",
   "metadata": {},
   "source": [
    "## Problema 4"
   ]
  },
  {
   "cell_type": "code",
   "execution_count": 135,
   "metadata": {},
   "outputs": [
    {
     "name": "stdout",
     "output_type": "stream",
     "text": [
      "Comprando 9 al dia, 1 mes: $279\n",
      "Comprando 9 al dia, 1 año: $3285\n",
      "Comprando 9 al dia, 10 años: $32850\n",
      "\n",
      "Comprando 10 al dia, 1 mes: $286.0\n",
      "Comprando 10 al dia, 1 año: $3446.0\n",
      "Comprando 10 al dia, 10 años: $34342.0\n",
      "\n",
      "Comprando 11 al dia, 1 mes: $273.0\n",
      "Comprando 11 al dia, 1 año: $3369.0\n",
      "Comprando 11 al dia, 10 años: $33446.0\n"
     ]
    }
   ],
   "source": [
    "cost_price = 1.5\n",
    "sale_price = 2.5\n",
    "refund_price = 0.5\n",
    "\n",
    "# cuando se compran 9 al dia\n",
    "sold_one_month_9 = (9 * 31)\n",
    "sold_one_year_9 = (9 * 365)\n",
    "sold_ten_years_9 = (9 * 3650)\n",
    "print(f'Comprando 9 al dia, 1 mes: ${sold_one_month_9}')\n",
    "print(f'Comprando 9 al dia, 1 año: ${sold_one_year_9}')\n",
    "print(f'Comprando 9 al dia, 10 años: ${sold_ten_years_9}')\n",
    "print()\n",
    "\n",
    "# Cuando se compran 10 al dia\n",
    "results = []\n",
    "for interval in [31, 365, 3650]:\n",
    "    sold, refunded = 0, 0\n",
    "    for i in range(interval):\n",
    "        p = random()\n",
    "        if p < 0.3:\n",
    "            sold += 9\n",
    "            refunded += 1\n",
    "        else:\n",
    "            sold += 10\n",
    "    results.append((sold * sale_price) + (refunded * refund_price) - (10 * cost_price * interval))\n",
    "\n",
    "print(f'Comprando 10 al dia, 1 mes: ${results[0]}')\n",
    "print(f'Comprando 10 al dia, 1 año: ${results[1]}')\n",
    "print(f'Comprando 10 al dia, 10 años: ${results[2]}')\n",
    "print()\n",
    "\n",
    "# Cuando se compran 11 al dia\n",
    "results = []\n",
    "for interval in [31, 365, 3650]:\n",
    "    sold, refunded = 0, 0\n",
    "    for i in range(interval):\n",
    "        p = random()\n",
    "        if p < 0.3:\n",
    "            sold += 9\n",
    "            refunded += 2\n",
    "        elif p < 0.6:\n",
    "            sold += 10\n",
    "            refunded += 1\n",
    "        else:\n",
    "            sold += 11\n",
    "    results.append((sold * sale_price) + (refunded * refund_price) - (11 * cost_price * interval))\n",
    "\n",
    "print(f'Comprando 11 al dia, 1 mes: ${results[0]}')\n",
    "print(f'Comprando 11 al dia, 1 año: ${results[1]}')\n",
    "print(f'Comprando 11 al dia, 10 años: ${results[2]}')"
   ]
  }
 ],
 "metadata": {
  "kernelspec": {
   "display_name": "Python 3",
   "language": "python",
   "name": "python3"
  },
  "language_info": {
   "codemirror_mode": {
    "name": "ipython",
    "version": 3
   },
   "file_extension": ".py",
   "mimetype": "text/x-python",
   "name": "python",
   "nbconvert_exporter": "python",
   "pygments_lexer": "ipython3",
   "version": "3.8.5"
  }
 },
 "nbformat": 4,
 "nbformat_minor": 4
}
